{
 "cells": [
  {
   "cell_type": "code",
   "execution_count": 35,
   "id": "17af4d34",
   "metadata": {},
   "outputs": [
    {
     "name": "stdout",
     "output_type": "stream",
     "text": [
      "      age  sex   cp trestbps chol fbs restecg thalach exang oldpeak slope ca  \\\n",
      "0    29.0  1.0  2.0      120  243   0       0     160     0     0.0     ?  ?   \n",
      "1    29.0  1.0  2.0      140    ?   0       0     170     0     0.0     ?  ?   \n",
      "2    30.0  0.0  1.0      170  237   0       1     170     0     0.0     ?  ?   \n",
      "3    31.0  0.0  2.0      100  219   0       1     150     0     0.0     ?  ?   \n",
      "4    32.0  0.0  2.0      105  198   0       0     165     0     0.0     ?  ?   \n",
      "..    ...  ...  ...      ...  ...  ..     ...     ...   ...     ...   ... ..   \n",
      "194  54.0  0.0  4.0      127  333   1       1     154     0       0     ?  ?   \n",
      "195  62.0  1.0  1.0        ?  139   0       1       ?     ?       ?     ?  ?   \n",
      "196  55.0  1.0  4.0      122  223   1       1     100     0       0     ?  ?   \n",
      "197  58.0  1.0  4.0        ?  385   1       2       ?     ?       ?     ?  ?   \n",
      "198  62.0  1.0  2.0      120  254   0       2      93     1       0     ?  ?   \n",
      "\n",
      "    thal  disease-likelihood  \n",
      "0      ?                   0  \n",
      "1      ?                   0  \n",
      "2      6                   0  \n",
      "3      ?                   0  \n",
      "4      ?                   0  \n",
      "..   ...                 ...  \n",
      "194    ?                   1  \n",
      "195    ?                   0  \n",
      "196    6                   2  \n",
      "197    ?                   0  \n",
      "198    ?                   1  \n",
      "\n",
      "[916 rows x 14 columns]\n"
     ]
    },
    {
     "name": "stderr",
     "output_type": "stream",
     "text": [
      "/var/folders/1w/p3cwqs7524db9fs5j7c3jmh40000gn/T/ipykernel_3840/3440874340.py:15: FutureWarning: The frame.append method is deprecated and will be removed from pandas in a future version. Use pandas.concat instead.\n",
      "  merge1=pdata.append(pdata2)\n",
      "/var/folders/1w/p3cwqs7524db9fs5j7c3jmh40000gn/T/ipykernel_3840/3440874340.py:16: FutureWarning: The frame.append method is deprecated and will be removed from pandas in a future version. Use pandas.concat instead.\n",
      "  merge2=merge1.append(pdata3)\n",
      "/var/folders/1w/p3cwqs7524db9fs5j7c3jmh40000gn/T/ipykernel_3840/3440874340.py:17: FutureWarning: The frame.append method is deprecated and will be removed from pandas in a future version. Use pandas.concat instead.\n",
      "  total_processed_data=merge2.append(pdata4)\n"
     ]
    }
   ],
   "source": [
    "import pandas as pd\n",
    "from sklearn.model_selection import train_test_split\n",
    "from sklearn.model_selection import KFold\n",
    "\n",
    "# reading preprocessed data, containing attributes researchers identified as relevant\n",
    "pdata =  pd.read_csv('processed.hungarian.data')\n",
    "pdata2 =  pd.read_csv('processed.cleveland.data')\n",
    "pdata3 =  pd.read_csv('processed.switzerland.data')\n",
    "pdata4 =  pd.read_csv('processed.va.data')\n",
    "\n",
    "pdata.columns=['age', 'sex', 'cp', 'trestbps', 'chol', 'fbs', 'restecg', 'thalach', 'exang', 'oldpeak', 'slope', 'ca', 'thal', 'disease-likelihood']\n",
    "pdata2.columns=['age', 'sex', 'cp', 'trestbps', 'chol', 'fbs', 'restecg', 'thalach', 'exang', 'oldpeak', 'slope', 'ca', 'thal', 'disease-likelihood']\n",
    "pdata3.columns=['age', 'sex', 'cp', 'trestbps', 'chol', 'fbs', 'restecg', 'thalach', 'exang', 'oldpeak', 'slope', 'ca', 'thal', 'disease-likelihood']\n",
    "pdata4.columns=['age', 'sex', 'cp', 'trestbps', 'chol', 'fbs', 'restecg', 'thalach', 'exang', 'oldpeak', 'slope', 'ca', 'thal', 'disease-likelihood']\n",
    "\n",
    "merge1=pdata.append(pdata2)\n",
    "merge2=merge1.append(pdata3)\n",
    "total_processed_data=merge2.append(pdata4)\n",
    "\n",
    "print(total_processed_data)\n"
   ]
  },
  {
   "cell_type": "code",
   "execution_count": 42,
   "id": "e789f9c4",
   "metadata": {},
   "outputs": [
    {
     "name": "stdout",
     "output_type": "stream",
     "text": [
      "916\n",
      "      age  sex   cp trestbps   chol  fbs restecg thalach exang oldpeak slope  \\\n",
      "89   66.0  1.0  4.0    120.0  302.0  0.0     2.0   151.0   0.0     0.4   2.0   \n",
      "73   44.0  1.0  4.0    110.0  197.0  0.0     2.0   177.0   0.0     0.0   1.0   \n",
      "18   46.0  1.0  4.0      115      0    0       0     113     1     1.5     2   \n",
      "137  35.0  1.0  4.0    120.0  198.0  0.0     0.0   130.0   1.0     1.6   2.0   \n",
      "40   40.0  1.0  4.0      125      0    1       0     165     0       0     ?   \n",
      "..    ...  ...  ...      ...    ...  ...     ...     ...   ...     ...   ...   \n",
      "58   51.0  1.0  1.0    125.0  213.0  0.0     2.0   125.0   1.0     1.4   1.0   \n",
      "182  59.0  1.0  1.0    178.0  270.0  0.0     2.0   145.0   0.0     4.2   3.0   \n",
      "25   51.0  1.0  4.0        ?      0    1       1       ?     ?       ?     ?   \n",
      "80   53.0  0.0  4.0    130.0  264.0  0.0     2.0   143.0   0.0     0.4   2.0   \n",
      "260  52.0  1.0  4.0      112    342    0       1      96     1     1.0     2   \n",
      "\n",
      "      ca thal  \n",
      "89   0.0  3.0  \n",
      "73   1.0  3.0  \n",
      "18     ?    7  \n",
      "137  0.0  7.0  \n",
      "40     ?    7  \n",
      "..   ...  ...  \n",
      "58   1.0  3.0  \n",
      "182  0.0  7.0  \n",
      "25     ?    ?  \n",
      "80   0.0  3.0  \n",
      "260    ?    ?  \n",
      "\n",
      "[824 rows x 13 columns]\n",
      "89     0\n",
      "73     1\n",
      "18     1\n",
      "137    1\n",
      "40     1\n",
      "      ..\n",
      "58     0\n",
      "182    0\n",
      "25     2\n",
      "80     0\n",
      "260    1\n",
      "Name: disease-likelihood, Length: 824, dtype: int64\n"
     ]
    }
   ],
   "source": [
    "X = total_processed_data.drop('disease-likelihood', axis = 1)\n",
    "y = total_processed_data['disease-likelihood']\n",
    "\n",
    "print(len(X.index))\n",
    "data_train, data_test, y_train, y_test = train_test_split(X, y, test_size=0.1)\n",
    "print(data_train)\n",
    "print(y_train)"
   ]
  },
  {
   "cell_type": "code",
   "execution_count": null,
   "id": "e74a2790",
   "metadata": {},
   "outputs": [],
   "source": [
    "#Currently being worked on\n",
    "\n"
   ]
  },
  {
   "cell_type": "code",
   "execution_count": null,
   "id": "4cb4dd67",
   "metadata": {},
   "outputs": [],
   "source": []
  }
 ],
 "metadata": {
  "kernelspec": {
   "display_name": "Python 3 (ipykernel)",
   "language": "python",
   "name": "python3"
  },
  "language_info": {
   "codemirror_mode": {
    "name": "ipython",
    "version": 3
   },
   "file_extension": ".py",
   "mimetype": "text/x-python",
   "name": "python",
   "nbconvert_exporter": "python",
   "pygments_lexer": "ipython3",
   "version": "3.10.9"
  }
 },
 "nbformat": 4,
 "nbformat_minor": 5
}
